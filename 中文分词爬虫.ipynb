{
 "cells": [
  {
   "cell_type": "code",
   "execution_count": 4,
   "metadata": {},
   "outputs": [],
   "source": [
    "# //\n",
    "# //                       _oo0oo_\n",
    "# //                      o8888888o\n",
    "# //                      88\" . \"88\n",
    "# //                      (| -_- |)\n",
    "# //                      0\\  =  /0\n",
    "# //                    ___/`---'\\___\n",
    "# //                  .' \\\\|     |// '.\n",
    "# //                 / \\\\|||  :  |||// \\\n",
    "# //                / _||||| -:- |||||- \\\n",
    "# //               |   | \\\\\\  -  /// |   |\n",
    "# //               | \\_|  ''\\---/''  |_/ |\n",
    "# //               \\  .-\\__  '-'  ___/-. /\n",
    "# //             ___'. .'  /--.--\\  `. .'___\n",
    "# //          .\"\" '<  `.___\\_<|>_/___.' >' \"\".\n",
    "# //         | | :  `- \\`.;`\\ _ /`;.`/ - ` : | |\n",
    "# //         \\  \\ `_.   \\_ __\\ /__ _/   .-` /  /\n",
    "# //     =====`-.____`.___ \\_____/___.-`___.-'=====\n",
    "# //                       `=---='\n",
    "# //\n",
    "# //\n",
    "# //     ~~~~~~~~~~~~~~~~~~~~~~~~~~~~~~~~~~~~~~~~~~~\n",
    "# //\n",
    "# //               佛祖保佑         永无BUG\n",
    "# //\n",
    "# //\n",
    "# //"
   ]
  },
  {
   "cell_type": "code",
   "execution_count": 13,
   "metadata": {},
   "outputs": [],
   "source": [
    "# import requests\n",
    "# from lxml import etree\n",
    "# import time\n",
    "\n",
    "# class Lagou_Job_Deeplearning(object):\n",
    "#     def __init__(self):\n",
    "#         self.base_url = 'https://www.lagou.com/zhaopin/shenduxuexi/'\n",
    "#         self.headers = {\n",
    "#             'User-Agent':'Mozilla/5.0 (Macintosh; Intel Mac OS X 10_14_4) AppleWebKit/537.36 (KHTML, like Gecko) Chrome/73.0.3683.103 Safari/537.36',\n",
    "#         }\n",
    "#         self.job_web = []\n",
    "        \n",
    "#     def get_response(self, url):\n",
    "#         html = requests.get(url, headers=self.headers).content.decode('utf-8')\n",
    "#         return html\n",
    "    \n",
    "#     def prase_data(self, html):\n",
    "#         xpath_data = etree.HTML(html)\n",
    "#         web_list = xpath_data.xpath('//*[@class=\"p_top\"]/a[@class=\"position_link\"]/@href')\n",
    "#         for web in web_list:\n",
    "#             self.job_web.append(web)\n",
    "            \n",
    "#         return self.job_web\n",
    "\n",
    "    \n",
    "#     def start(self):\n",
    "#         count = 0\n",
    "#         for i in range(1,3):\n",
    "#             count += 15\n",
    "#             print('已爬取%s个'%count)\n",
    "#             url = self.base_url + str(i)\n",
    "#             response_html = self.get_response(url)\n",
    "#             data = self.prase_data(response_html)\n",
    "#             time.sleep(2)\n",
    "#             print(data)\n",
    "\n",
    "#         print('共%s个职位'%len(data))\n",
    "#         return data\n",
    "          \n",
    "        "
   ]
  },
  {
   "cell_type": "code",
   "execution_count": 14,
   "metadata": {},
   "outputs": [],
   "source": [
    "# job_web_list = Lagou_Job_Deeplearning().start()"
   ]
  },
  {
   "cell_type": "code",
   "execution_count": 63,
   "metadata": {},
   "outputs": [],
   "source": [
    "from selenium import webdriver\n",
    "\n",
    "browser = webdriver.Chrome('/Users/xufan/Desktop/chromedriver')\n",
    "browser.delete_all_cookies()\n",
    "browser.get('https://www.lagou.com/jobs/5826843.html')\n",
    "\n",
    "username = '17600991883'\n",
    "password = 'a6676610'\n",
    "\n",
    "browser.find_element_by_xpath('//*[@id=\"lg_tbar\"]/div/ul/li[1]/a').click()\n",
    "browser.find_element_by_xpath('/html/body/section/div[2]/div[1]/div[2]/form/div[1]/input').send_keys(username)\n",
    "browser.find_element_by_xpath('/html/body/section/div[2]/div[1]/div[2]/form/div[2]/input').send_keys(password)\n",
    "\n",
    "time.sleep(3)\n",
    "browser.find_element_by_xpath('/html/body/section/div[2]/div[1]/div[2]/form/div[5]/input').click()\n",
    "time.sleep(10)\n",
    "\n",
    "cookie_list = browser.get_cookies()\n",
    "browser.get('https://www.lagou.com/zhaopin/shenduxuexi/?labelWords=label')\n",
    "browser.delete_all_cookies()\n",
    "for cookie in cookie_list:\n",
    "    browser.add_cookie(cookie)"
   ]
  },
  {
   "cell_type": "code",
   "execution_count": 64,
   "metadata": {},
   "outputs": [
    {
     "name": "stdout",
     "output_type": "stream",
     "text": [
      "已爬取5页\n",
      "已爬取10页\n",
      "已爬取15页\n",
      "已爬取20页\n",
      "已爬取25页\n",
      "435\n"
     ]
    }
   ],
   "source": [
    "job_web_list = []\n",
    "base_url = 'https://www.lagou.com/zhaopin/shenduxuexi/'\n",
    "count = 0\n",
    "\n",
    "for i in range(1,30):\n",
    "    if i%5 == 0:\n",
    "        print('已爬取%s页'%i)\n",
    "    url = base_url + str(i)\n",
    "    browser.get(url)\n",
    "    html = browser.page_source\n",
    "#     time.sleep(1)\n",
    "    xpath_data = etree.HTML(html)\n",
    "    web_list = xpath_data.xpath('//*[@class=\"p_top\"]/a[@class=\"position_link\"]/@href')\n",
    "    for web in web_list:\n",
    "        job_web_list.append(web)\n",
    "print(len(job_web_list))"
   ]
  },
  {
   "cell_type": "code",
   "execution_count": 69,
   "metadata": {},
   "outputs": [
    {
     "name": "stdout",
     "output_type": "stream",
     "text": [
      "已爬取50个\n",
      "已爬取100个\n",
      "已爬取150个\n",
      "已爬取200个\n",
      "已爬取250个\n",
      "已爬取300个\n",
      "已爬取350个\n",
      "已爬取400个\n",
      "共435个职位\n"
     ]
    }
   ],
   "source": [
    "browser = webdriver.Chrome('/Users/xufan/Desktop/chromedriver')\n",
    "browser.get('https://www.lagou.com/')\n",
    "browser.delete_all_cookies()\n",
    "for cookie in cookie_list:\n",
    "    browser.add_cookie(cookie)\n",
    "htmls = []\n",
    "p = 0\n",
    "for url in job_web_list[:]:\n",
    "    p += 1\n",
    "    if p % 50 == 0:\n",
    "        print('已爬取%s个'%p)\n",
    "#     time.sleep(6)\n",
    "    browser.get(url)\n",
    "    html = browser.page_source\n",
    "    xpath_data = etree.HTML(html)\n",
    "#     if xpath_data.xpath('/html/body/div/p[1]/text()')[0] == '当前账号存在异常，请验证后继续访问！':\n",
    "    if '当前账号存在异常' in html:\n",
    "        time.sleep(10)\n",
    "        browser.get(url)\n",
    "        html = browser.page_source\n",
    "    htmls.append(html)\n",
    "print('共%s个职位'%len(htmls))"
   ]
  },
  {
   "cell_type": "code",
   "execution_count": 71,
   "metadata": {},
   "outputs": [
    {
     "name": "stdout",
     "output_type": "stream",
     "text": [
      "finish\n"
     ]
    }
   ],
   "source": [
    "f = open('职位.txt','w')\n",
    "for i in range(len(htmls)):\n",
    "    xpath_data = etree.HTML(htmls[i])\n",
    "#     job = xpath_data.xpath('/html/body/div[2]/div/div[1]/div/@title')\n",
    "#     keywords = xpath_data.xpath('/html/body/div[2]/div/div[1]/dd/p[1]/span/text()')\n",
    "    describes = xpath_data.xpath('//*[@class=\"job-detail\"]/p/text()')\n",
    "    \n",
    "#     f.write(','.join(job))\n",
    "#     f.write(','.join(keywords))\n",
    "#     f.write('\\n')\n",
    "    f.write(','.join(describes))\n",
    "    f.write('\\n')\n",
    "\n",
    "print('finish')\n",
    "f.close()"
   ]
  },
  {
   "cell_type": "code",
   "execution_count": 88,
   "metadata": {},
   "outputs": [],
   "source": [
    "import pandas as pd\n",
    "import numpy as np\n",
    "import csv\n",
    "\n",
    "job_dataframe_list = []\n",
    "for i in range(len(htmls)):\n",
    "    xpath_data = etree.HTML(htmls[i])\n",
    "    \n",
    "    company = xpath_data.xpath('//*[@id=\"job_company\"]/dt/a/div/h2/em/text()')\n",
    "    job = xpath_data.xpath('/html/body/div[2]/div/div[1]/div/@title')\n",
    "    salary = xpath_data.xpath('/html/body/div[2]/div/div[1]/dd/p[1]/span[1]/text()')\n",
    "    place = xpath_data.xpath('/html/body/div[2]/div/div[1]/dd/p[1]/span[2]/text()')\n",
    "    experience = xpath_data.xpath('/html/body/div[2]/div/div[1]/dd/p[1]/span[3]/text()')\n",
    "    education = xpath_data.xpath('/html/body/div[2]/div/div[1]/dd/p[1]/span[4]/text()')\n",
    "    describes = xpath_data.xpath('//*[@class=\"job-detail\"]/p/text()')\n",
    "    \n",
    "    temp = []\n",
    "    temp.append(','.join(company))\n",
    "    temp.append(','.join(job))\n",
    "    temp.append(','.join(salary))\n",
    "    temp.append(','.join(education))\n",
    "    temp.append(','.join(place))\n",
    "    temp.append(','.join(experience))\n",
    "    temp.append(','.join(describes))\n",
    "    job_dataframe_list.append(temp)\n",
    "    \n",
    "dataframe = pd.DataFrame(job_dataframe_list, \n",
    "                         columns=['company','job','salary','education','place','experience','describes'])\n",
    "                         \n",
    "dataframe.to_csv('职位.csv',index=0)"
   ]
  },
  {
   "cell_type": "markdown",
   "metadata": {},
   "source": [
    "## 查看原始数据数据"
   ]
  },
  {
   "cell_type": "code",
   "execution_count": 89,
   "metadata": {},
   "outputs": [
    {
     "name": "stdout",
     "output_type": "stream",
     "text": [
      "(435, 7)\n"
     ]
    },
    {
     "data": {
      "text/html": [
       "<div>\n",
       "<style>\n",
       "    .dataframe thead tr:only-child th {\n",
       "        text-align: right;\n",
       "    }\n",
       "\n",
       "    .dataframe thead th {\n",
       "        text-align: left;\n",
       "    }\n",
       "\n",
       "    .dataframe tbody tr th {\n",
       "        vertical-align: top;\n",
       "    }\n",
       "</style>\n",
       "<table border=\"1\" class=\"dataframe\">\n",
       "  <thead>\n",
       "    <tr style=\"text-align: right;\">\n",
       "      <th></th>\n",
       "      <th>company</th>\n",
       "      <th>job</th>\n",
       "      <th>salary</th>\n",
       "      <th>education</th>\n",
       "      <th>place</th>\n",
       "      <th>experience</th>\n",
       "      <th>describes</th>\n",
       "    </tr>\n",
       "  </thead>\n",
       "  <tbody>\n",
       "    <tr>\n",
       "      <th>130</th>\n",
       "      <td>\\n                                    快手\\n    ...</td>\n",
       "      <td>分布式深度学习平台开发工程师</td>\n",
       "      <td>30k-50k</td>\n",
       "      <td>本科及以上 /</td>\n",
       "      <td>/北京 /</td>\n",
       "      <td>经验3-5年 /</td>\n",
       "      <td>1、参与大规模深度学习平台的功能设计和研发；,2、提升线上计算和线下训练的GPU利用率。,1...</td>\n",
       "    </tr>\n",
       "    <tr>\n",
       "      <th>56</th>\n",
       "      <td>\\n                                    悉见科技\\n  ...</td>\n",
       "      <td>深度学习主任科学家</td>\n",
       "      <td>40k-80k</td>\n",
       "      <td>博士及以上 /</td>\n",
       "      <td>/北京 /</td>\n",
       "      <td>经验5-10年 /</td>\n",
       "      <td>岗位职责：,1. 搭建视觉机器学习平台；,2. 根据公司技术战略，进行前沿的深度学习视觉算法...</td>\n",
       "    </tr>\n",
       "    <tr>\n",
       "      <th>320</th>\n",
       "      <td>\\n                                    用友烟草软件\\n...</td>\n",
       "      <td>erp实施顾问</td>\n",
       "      <td>6k-8k</td>\n",
       "      <td>本科及以上 /</td>\n",
       "      <td>/北京 /</td>\n",
       "      <td>经验1-3年 /</td>\n",
       "      <td>工作职责： 负责公司产品的实施工作，参与BU的项目运维工作。,职位要求：,1.全日制本科及以...</td>\n",
       "    </tr>\n",
       "    <tr>\n",
       "      <th>167</th>\n",
       "      <td>\\n                                    朗播\\n    ...</td>\n",
       "      <td>学习规划师</td>\n",
       "      <td>4k-8k</td>\n",
       "      <td>本科及以上 /</td>\n",
       "      <td>/北京 /</td>\n",
       "      <td>经验不限 /</td>\n",
       "      <td>朗播英语智能学习实验室简介,朗播 | 英语智能学习实验室（朗播线下的教育新零售业务），是朗播...</td>\n",
       "    </tr>\n",
       "    <tr>\n",
       "      <th>13</th>\n",
       "      <td>\\n                                    HoloMati...</td>\n",
       "      <td>深度学习（视觉）工程师</td>\n",
       "      <td>15k-30k</td>\n",
       "      <td>学历不限 /</td>\n",
       "      <td>/北京 /</td>\n",
       "      <td>经验1-3年 /</td>\n",
       "      <td>岗位职责：,负责高精度导航地图中的各类地图元素的检测，识别和定位，主要包括但不限于以下几项:...</td>\n",
       "    </tr>\n",
       "  </tbody>\n",
       "</table>\n",
       "</div>"
      ],
      "text/plain": [
       "                                               company             job  \\\n",
       "130  \\n                                    快手\\n    ...  分布式深度学习平台开发工程师   \n",
       "56   \\n                                    悉见科技\\n  ...       深度学习主任科学家   \n",
       "320  \\n                                    用友烟草软件\\n...         erp实施顾问   \n",
       "167  \\n                                    朗播\\n    ...           学习规划师   \n",
       "13   \\n                                    HoloMati...     深度学习（视觉）工程师   \n",
       "\n",
       "       salary education  place experience  \\\n",
       "130  30k-50k    本科及以上 /  /北京 /   经验3-5年 /   \n",
       "56   40k-80k    博士及以上 /  /北京 /  经验5-10年 /   \n",
       "320    6k-8k    本科及以上 /  /北京 /   经验1-3年 /   \n",
       "167    4k-8k    本科及以上 /  /北京 /     经验不限 /   \n",
       "13   15k-30k     学历不限 /  /北京 /   经验1-3年 /   \n",
       "\n",
       "                                             describes  \n",
       "130  1、参与大规模深度学习平台的功能设计和研发；,2、提升线上计算和线下训练的GPU利用率。,1...  \n",
       "56   岗位职责：,1. 搭建视觉机器学习平台；,2. 根据公司技术战略，进行前沿的深度学习视觉算法...  \n",
       "320  工作职责： 负责公司产品的实施工作，参与BU的项目运维工作。,职位要求：,1.全日制本科及以...  \n",
       "167  朗播英语智能学习实验室简介,朗播 | 英语智能学习实验室（朗播线下的教育新零售业务），是朗播...  \n",
       "13   岗位职责：,负责高精度导航地图中的各类地图元素的检测，识别和定位，主要包括但不限于以下几项:...  "
      ]
     },
     "execution_count": 89,
     "metadata": {},
     "output_type": "execute_result"
    }
   ],
   "source": [
    "data = pd.read_csv('职位.csv')\n",
    "print(data.shape)\n",
    "data.sample(5)"
   ]
  },
  {
   "cell_type": "markdown",
   "metadata": {},
   "source": [
    "## 清洗数据\n",
    "### 格式"
   ]
  },
  {
   "cell_type": "code",
   "execution_count": 84,
   "metadata": {},
   "outputs": [
    {
     "data": {
      "text/plain": [
       "(409, 6)"
      ]
     },
     "execution_count": 84,
     "metadata": {},
     "output_type": "execute_result"
    }
   ],
   "source": [
    "# 删除空值行\n",
    "data.dropna(axis=0, how='any', inplace=True)\n",
    "data.shape"
   ]
  },
  {
   "cell_type": "code",
   "execution_count": 90,
   "metadata": {},
   "outputs": [
    {
     "data": {
      "text/html": [
       "<div>\n",
       "<style>\n",
       "    .dataframe thead tr:only-child th {\n",
       "        text-align: right;\n",
       "    }\n",
       "\n",
       "    .dataframe thead th {\n",
       "        text-align: left;\n",
       "    }\n",
       "\n",
       "    .dataframe tbody tr th {\n",
       "        vertical-align: top;\n",
       "    }\n",
       "</style>\n",
       "<table border=\"1\" class=\"dataframe\">\n",
       "  <thead>\n",
       "    <tr style=\"text-align: right;\">\n",
       "      <th></th>\n",
       "      <th>company</th>\n",
       "      <th>job</th>\n",
       "      <th>salary</th>\n",
       "      <th>education</th>\n",
       "      <th>place</th>\n",
       "      <th>experience</th>\n",
       "      <th>describes</th>\n",
       "    </tr>\n",
       "  </thead>\n",
       "  <tbody>\n",
       "    <tr>\n",
       "      <th>0</th>\n",
       "      <td>Udesk－企业级...</td>\n",
       "      <td>机器学习</td>\n",
       "      <td>22500</td>\n",
       "      <td>硕士及以上</td>\n",
       "      <td>北京</td>\n",
       "      <td>经验1-3年</td>\n",
       "      <td>职位描述：,+ 企业服务领域智能化场景的业务分析、数据建模和数据优化。,任职要求：,+ 1年...</td>\n",
       "    </tr>\n",
       "    <tr>\n",
       "      <th>1</th>\n",
       "      <td>佰策科技     ...</td>\n",
       "      <td>深度学习工程师</td>\n",
       "      <td>15000</td>\n",
       "      <td>本科及以上</td>\n",
       "      <td>北京</td>\n",
       "      <td>经验3-5年</td>\n",
       "      <td>深度学习工程师是最神秘的职业，在我们这里也不例外，不同的是，深度学习工程师是我们这里最能驱动...</td>\n",
       "    </tr>\n",
       "    <tr>\n",
       "      <th>2</th>\n",
       "      <td>小狗机器人    ...</td>\n",
       "      <td>深度学习算法研究员</td>\n",
       "      <td>37500</td>\n",
       "      <td>本科及以上</td>\n",
       "      <td>北京</td>\n",
       "      <td>经验3-5年</td>\n",
       "      <td>岗位职位：,1、跟踪最前沿的视觉算法，对论文结果进行复现和效果提升。,2、针对具体场景和平台...</td>\n",
       "    </tr>\n",
       "    <tr>\n",
       "      <th>3</th>\n",
       "      <td>厚仁医疗     ...</td>\n",
       "      <td>深度学习训练系统</td>\n",
       "      <td>50000</td>\n",
       "      <td>本科及以上</td>\n",
       "      <td>北京</td>\n",
       "      <td>经验3-5年</td>\n",
       "      <td>负责深度学习训练系统平台的效率优化和功能开发，支撑语音、NLP业务的模型训练。</td>\n",
       "    </tr>\n",
       "    <tr>\n",
       "      <th>4</th>\n",
       "      <td>印迹       ...</td>\n",
       "      <td>深度学习算法工程师</td>\n",
       "      <td>37500</td>\n",
       "      <td>硕士及以上</td>\n",
       "      <td>北京</td>\n",
       "      <td>经验3-5年</td>\n",
       "      <td>NaN</td>\n",
       "    </tr>\n",
       "  </tbody>\n",
       "</table>\n",
       "</div>"
      ],
      "text/plain": [
       "                                             company        job salary  \\\n",
       "0                                       Udesk－企业级...       机器学习  22500   \n",
       "1                                       佰策科技     ...    深度学习工程师  15000   \n",
       "2                                       小狗机器人    ...  深度学习算法研究员  37500   \n",
       "3                                       厚仁医疗     ...   深度学习训练系统  50000   \n",
       "4                                       印迹       ...  深度学习算法工程师  37500   \n",
       "\n",
       "  education  place experience  \\\n",
       "0   硕士及以上     北京     经验1-3年     \n",
       "1   本科及以上     北京     经验3-5年     \n",
       "2   本科及以上     北京     经验3-5年     \n",
       "3   本科及以上     北京     经验3-5年     \n",
       "4   硕士及以上     北京     经验3-5年     \n",
       "\n",
       "                                           describes  \n",
       "0  职位描述：,+ 企业服务领域智能化场景的业务分析、数据建模和数据优化。,任职要求：,+ 1年...  \n",
       "1  深度学习工程师是最神秘的职业，在我们这里也不例外，不同的是，深度学习工程师是我们这里最能驱动...  \n",
       "2  岗位职位：,1、跟踪最前沿的视觉算法，对论文结果进行复现和效果提升。,2、针对具体场景和平台...  \n",
       "3            负责深度学习训练系统平台的效率优化和功能开发，支撑语音、NLP业务的模型训练。  \n",
       "4                                                NaN  "
      ]
     },
     "execution_count": 90,
     "metadata": {},
     "output_type": "execute_result"
    }
   ],
   "source": [
    "import re\n",
    "\n",
    "\n",
    "for i in range(data.shape[0]):\n",
    "    \n",
    "    try:\n",
    "        # 计算平均工资\n",
    "        find_salary = re.findall(r'\\d*\\d',data['salary'][i])\n",
    "        avg_salary = int((int(find_salary[0])+int(find_salary[1]))/2*1000)\n",
    "        data['salary'][i] = avg_salary\n",
    "        # 去掉斜杠\n",
    "        data['company'][i] = re.sub(r'[\\n]',' ',data['company'][i])\n",
    "        data['education'][i] = re.sub(r'[/]',' ',data['education'][i])\n",
    "        data['place'][i] = re.sub(r'[/]',' ',data['place'][i])\n",
    "        data['experience'][i] = re.sub(r'[/]',' ',data['experience'][i])\n",
    "    except:\n",
    "        pass\n",
    "\n",
    "data.head(5)"
   ]
  },
  {
   "cell_type": "markdown",
   "metadata": {},
   "source": [
    "## 提取关键词并设置特征"
   ]
  },
  {
   "cell_type": "code",
   "execution_count": 91,
   "metadata": {},
   "outputs": [
    {
     "name": "stderr",
     "output_type": "stream",
     "text": [
      "Building prefix dict from the default dictionary ...\n",
      "Dumping model to file cache /var/folders/tc/mql7lrgs1vl2wf2j77td1zp00000gn/T/jieba.cache\n",
      "Loading model cost 0.891 seconds.\n",
      "Prefix dict has been built succesfully.\n"
     ]
    },
    {
     "name": "stdout",
     "output_type": "stream",
     "text": [
      "['学习', '算法', '深度', '经验', '优先', '能力', '熟悉', '相关', '机器', '工作', '负责', '岗位职责', '产品', '以上学历', '团队', '开发', '任职', '客户', '沟通', '数据']\n"
     ]
    }
   ],
   "source": [
    "import jieba.analyse\n",
    "\n",
    "# 读入乱乱的txt文件\n",
    "with open('职位.txt','r') as f:\n",
    "    txt = f.readlines()\n",
    "    txt = ','.join(txt)\n",
    "\n",
    "# 去除标点符号等\n",
    "def mysplit(file):\n",
    "    '''\n",
    "    return a little clean list\n",
    "    '''\n",
    "    with open(file,'r') as f:\n",
    "        l = []\n",
    "        for i in f:\n",
    "            l.extend(re.split(r\"\\s'|'\\s|^'|'$|[\\[\\]:;\\s\\d,.!?()\\\"/、。，：；-]\",i))\n",
    "    L = [i for i in l if i != '']\n",
    "    return L\n",
    "\n",
    "def key_words_list(num=15):\n",
    "    cleaner_list = mysplit('职位.txt')\n",
    "    txt = ','.join(cleaner_list)\n",
    "    a = jieba.analyse.extract_tags(txt, topK=num, withWeight=False, allowPOS=())\n",
    "    return a\n",
    "\n",
    "feature = key_words_list(20)\n",
    "print(feature)"
   ]
  },
  {
   "cell_type": "code",
   "execution_count": 92,
   "metadata": {},
   "outputs": [],
   "source": [
    "# 建立简易词库\n",
    "userdict = 'TensorFlow,机器学习,数据挖掘,AI,算法,深度学习,硕士,计算机,CNN,RNN,LSTM,Caffe,MXNet,编程,数学,python,强化学习,图像处理,Kaggle,github,全职,实习,985,NLP,SVM,LR,大规模,分布式,自然语言处理,沟通'\n",
    "with open('userdict.txt','w') as f:\n",
    "    for i in userdict.split(','):\n",
    "        f.write(i)\n",
    "        f.write('\\n')\n",
    "\n",
    "jieba.load_userdict(\"userdict.txt\")\n",
    "\n",
    "with open('userdict.txt','w') as f:\n",
    "    for i in userdict:\n",
    "        f.write(i)\n",
    "        f.write('\\n')\n",
    "\n",
    "# 设置关键词为特征\n",
    "for i in feature:\n",
    "    a = np.array(np.zeros(435)).reshape(435,1)\n",
    "    for j in range(435):\n",
    "        # 读取词库并分词\n",
    "        try:\n",
    "            jieba.load_userdict(\"userdict.txt\")\n",
    "            words = jieba.cut(data['describes'][j])\n",
    "            words = ','.join(words).split(',')\n",
    "        except:\n",
    "            pass\n",
    "        \n",
    "        if i in words:\n",
    "            a[j] = 1\n",
    "        else:\n",
    "            a[j] = 0\n",
    "        \n",
    "    data[i] = a"
   ]
  },
  {
   "cell_type": "markdown",
   "metadata": {},
   "source": [
    "## 创建训练集"
   ]
  },
  {
   "cell_type": "code",
   "execution_count": 96,
   "metadata": {},
   "outputs": [
    {
     "data": {
      "text/html": [
       "<div>\n",
       "<style>\n",
       "    .dataframe thead tr:only-child th {\n",
       "        text-align: right;\n",
       "    }\n",
       "\n",
       "    .dataframe thead th {\n",
       "        text-align: left;\n",
       "    }\n",
       "\n",
       "    .dataframe tbody tr th {\n",
       "        vertical-align: top;\n",
       "    }\n",
       "</style>\n",
       "<table border=\"1\" class=\"dataframe\">\n",
       "  <thead>\n",
       "    <tr style=\"text-align: right;\">\n",
       "      <th></th>\n",
       "      <th>学习</th>\n",
       "      <th>算法</th>\n",
       "      <th>深度</th>\n",
       "      <th>经验</th>\n",
       "      <th>优先</th>\n",
       "      <th>能力</th>\n",
       "      <th>熟悉</th>\n",
       "      <th>相关</th>\n",
       "      <th>机器</th>\n",
       "      <th>工作</th>\n",
       "      <th>负责</th>\n",
       "      <th>岗位职责</th>\n",
       "      <th>产品</th>\n",
       "      <th>以上学历</th>\n",
       "      <th>团队</th>\n",
       "      <th>开发</th>\n",
       "      <th>任职</th>\n",
       "      <th>客户</th>\n",
       "      <th>沟通</th>\n",
       "      <th>数据</th>\n",
       "    </tr>\n",
       "  </thead>\n",
       "  <tbody>\n",
       "    <tr>\n",
       "      <th>200</th>\n",
       "      <td>1.0</td>\n",
       "      <td>0.0</td>\n",
       "      <td>1.0</td>\n",
       "      <td>1.0</td>\n",
       "      <td>1.0</td>\n",
       "      <td>0.0</td>\n",
       "      <td>1.0</td>\n",
       "      <td>1.0</td>\n",
       "      <td>0.0</td>\n",
       "      <td>0.0</td>\n",
       "      <td>1.0</td>\n",
       "      <td>1.0</td>\n",
       "      <td>0.0</td>\n",
       "      <td>0.0</td>\n",
       "      <td>0.0</td>\n",
       "      <td>1.0</td>\n",
       "      <td>1.0</td>\n",
       "      <td>0.0</td>\n",
       "      <td>0.0</td>\n",
       "      <td>0.0</td>\n",
       "    </tr>\n",
       "    <tr>\n",
       "      <th>197</th>\n",
       "      <td>0.0</td>\n",
       "      <td>1.0</td>\n",
       "      <td>0.0</td>\n",
       "      <td>1.0</td>\n",
       "      <td>1.0</td>\n",
       "      <td>1.0</td>\n",
       "      <td>1.0</td>\n",
       "      <td>1.0</td>\n",
       "      <td>0.0</td>\n",
       "      <td>1.0</td>\n",
       "      <td>1.0</td>\n",
       "      <td>0.0</td>\n",
       "      <td>0.0</td>\n",
       "      <td>0.0</td>\n",
       "      <td>1.0</td>\n",
       "      <td>1.0</td>\n",
       "      <td>0.0</td>\n",
       "      <td>0.0</td>\n",
       "      <td>0.0</td>\n",
       "      <td>1.0</td>\n",
       "    </tr>\n",
       "    <tr>\n",
       "      <th>284</th>\n",
       "      <td>0.0</td>\n",
       "      <td>0.0</td>\n",
       "      <td>1.0</td>\n",
       "      <td>1.0</td>\n",
       "      <td>1.0</td>\n",
       "      <td>1.0</td>\n",
       "      <td>0.0</td>\n",
       "      <td>0.0</td>\n",
       "      <td>0.0</td>\n",
       "      <td>1.0</td>\n",
       "      <td>0.0</td>\n",
       "      <td>1.0</td>\n",
       "      <td>0.0</td>\n",
       "      <td>0.0</td>\n",
       "      <td>0.0</td>\n",
       "      <td>0.0</td>\n",
       "      <td>0.0</td>\n",
       "      <td>0.0</td>\n",
       "      <td>0.0</td>\n",
       "      <td>0.0</td>\n",
       "    </tr>\n",
       "    <tr>\n",
       "      <th>93</th>\n",
       "      <td>0.0</td>\n",
       "      <td>1.0</td>\n",
       "      <td>0.0</td>\n",
       "      <td>1.0</td>\n",
       "      <td>1.0</td>\n",
       "      <td>0.0</td>\n",
       "      <td>0.0</td>\n",
       "      <td>1.0</td>\n",
       "      <td>0.0</td>\n",
       "      <td>0.0</td>\n",
       "      <td>0.0</td>\n",
       "      <td>0.0</td>\n",
       "      <td>0.0</td>\n",
       "      <td>0.0</td>\n",
       "      <td>0.0</td>\n",
       "      <td>0.0</td>\n",
       "      <td>0.0</td>\n",
       "      <td>0.0</td>\n",
       "      <td>0.0</td>\n",
       "      <td>0.0</td>\n",
       "    </tr>\n",
       "    <tr>\n",
       "      <th>46</th>\n",
       "      <td>0.0</td>\n",
       "      <td>1.0</td>\n",
       "      <td>0.0</td>\n",
       "      <td>1.0</td>\n",
       "      <td>0.0</td>\n",
       "      <td>1.0</td>\n",
       "      <td>1.0</td>\n",
       "      <td>0.0</td>\n",
       "      <td>0.0</td>\n",
       "      <td>0.0</td>\n",
       "      <td>0.0</td>\n",
       "      <td>0.0</td>\n",
       "      <td>0.0</td>\n",
       "      <td>1.0</td>\n",
       "      <td>0.0</td>\n",
       "      <td>1.0</td>\n",
       "      <td>0.0</td>\n",
       "      <td>0.0</td>\n",
       "      <td>0.0</td>\n",
       "      <td>0.0</td>\n",
       "    </tr>\n",
       "  </tbody>\n",
       "</table>\n",
       "</div>"
      ],
      "text/plain": [
       "      学习   算法   深度   经验   优先   能力   熟悉   相关   机器   工作   负责  岗位职责   产品  以上学历  \\\n",
       "200  1.0  0.0  1.0  1.0  1.0  0.0  1.0  1.0  0.0  0.0  1.0   1.0  0.0   0.0   \n",
       "197  0.0  1.0  0.0  1.0  1.0  1.0  1.0  1.0  0.0  1.0  1.0   0.0  0.0   0.0   \n",
       "284  0.0  0.0  1.0  1.0  1.0  1.0  0.0  0.0  0.0  1.0  0.0   1.0  0.0   0.0   \n",
       "93   0.0  1.0  0.0  1.0  1.0  0.0  0.0  1.0  0.0  0.0  0.0   0.0  0.0   0.0   \n",
       "46   0.0  1.0  0.0  1.0  0.0  1.0  1.0  0.0  0.0  0.0  0.0   0.0  0.0   1.0   \n",
       "\n",
       "      团队   开发   任职   客户   沟通   数据  \n",
       "200  0.0  1.0  1.0  0.0  0.0  0.0  \n",
       "197  1.0  1.0  0.0  0.0  0.0  1.0  \n",
       "284  0.0  0.0  0.0  0.0  0.0  0.0  \n",
       "93   0.0  0.0  0.0  0.0  0.0  0.0  \n",
       "46   0.0  1.0  0.0  0.0  0.0  0.0  "
      ]
     },
     "execution_count": 96,
     "metadata": {},
     "output_type": "execute_result"
    }
   ],
   "source": [
    "raw_data = data.iloc[:,7:]\n",
    "raw_data.sample(5)"
   ]
  },
  {
   "cell_type": "code",
   "execution_count": 97,
   "metadata": {},
   "outputs": [
    {
     "data": {
      "text/html": [
       "<div>\n",
       "<style>\n",
       "    .dataframe thead tr:only-child th {\n",
       "        text-align: right;\n",
       "    }\n",
       "\n",
       "    .dataframe thead th {\n",
       "        text-align: left;\n",
       "    }\n",
       "\n",
       "    .dataframe tbody tr th {\n",
       "        vertical-align: top;\n",
       "    }\n",
       "</style>\n",
       "<table border=\"1\" class=\"dataframe\">\n",
       "  <thead>\n",
       "    <tr style=\"text-align: right;\">\n",
       "      <th></th>\n",
       "      <th>salary</th>\n",
       "    </tr>\n",
       "  </thead>\n",
       "  <tbody>\n",
       "    <tr>\n",
       "      <th>0</th>\n",
       "      <td>22500</td>\n",
       "    </tr>\n",
       "    <tr>\n",
       "      <th>1</th>\n",
       "      <td>15000</td>\n",
       "    </tr>\n",
       "    <tr>\n",
       "      <th>2</th>\n",
       "      <td>37500</td>\n",
       "    </tr>\n",
       "    <tr>\n",
       "      <th>3</th>\n",
       "      <td>50000</td>\n",
       "    </tr>\n",
       "    <tr>\n",
       "      <th>4</th>\n",
       "      <td>37500</td>\n",
       "    </tr>\n",
       "  </tbody>\n",
       "</table>\n",
       "</div>"
      ],
      "text/plain": [
       "  salary\n",
       "0  22500\n",
       "1  15000\n",
       "2  37500\n",
       "3  50000\n",
       "4  37500"
      ]
     },
     "execution_count": 97,
     "metadata": {},
     "output_type": "execute_result"
    }
   ],
   "source": [
    "raw_label = data.iloc[:,2:3]\n",
    "raw_label.head()"
   ]
  },
  {
   "cell_type": "code",
   "execution_count": 98,
   "metadata": {},
   "outputs": [
    {
     "data": {
      "text/plain": [
       "salary    22500.0\n",
       "dtype: float64"
      ]
     },
     "execution_count": 98,
     "metadata": {},
     "output_type": "execute_result"
    }
   ],
   "source": [
    "raw_label.median()"
   ]
  },
  {
   "cell_type": "markdown",
   "metadata": {},
   "source": [
    "可以看出收入薪资的中位数为24000，所以设置大于24000的为1，小于24000的为0"
   ]
  },
  {
   "cell_type": "code",
   "execution_count": 99,
   "metadata": {},
   "outputs": [
    {
     "data": {
      "text/html": [
       "<div>\n",
       "<style>\n",
       "    .dataframe thead tr:only-child th {\n",
       "        text-align: right;\n",
       "    }\n",
       "\n",
       "    .dataframe thead th {\n",
       "        text-align: left;\n",
       "    }\n",
       "\n",
       "    .dataframe tbody tr th {\n",
       "        vertical-align: top;\n",
       "    }\n",
       "</style>\n",
       "<table border=\"1\" class=\"dataframe\">\n",
       "  <thead>\n",
       "    <tr style=\"text-align: right;\">\n",
       "      <th></th>\n",
       "      <th>salary</th>\n",
       "    </tr>\n",
       "  </thead>\n",
       "  <tbody>\n",
       "    <tr>\n",
       "      <th>0</th>\n",
       "      <td>0</td>\n",
       "    </tr>\n",
       "    <tr>\n",
       "      <th>1</th>\n",
       "      <td>0</td>\n",
       "    </tr>\n",
       "    <tr>\n",
       "      <th>2</th>\n",
       "      <td>1</td>\n",
       "    </tr>\n",
       "    <tr>\n",
       "      <th>3</th>\n",
       "      <td>1</td>\n",
       "    </tr>\n",
       "    <tr>\n",
       "      <th>4</th>\n",
       "      <td>1</td>\n",
       "    </tr>\n",
       "  </tbody>\n",
       "</table>\n",
       "</div>"
      ],
      "text/plain": [
       "   salary\n",
       "0       0\n",
       "1       0\n",
       "2       1\n",
       "3       1\n",
       "4       1"
      ]
     },
     "execution_count": 99,
     "metadata": {},
     "output_type": "execute_result"
    }
   ],
   "source": [
    "# 设置大于24000的为1，小于24000的为0\n",
    "raw_label['salary'] = raw_label.salary.apply(lambda x: 0 if x <= 24000 else 1)\n",
    "raw_label.head()"
   ]
  },
  {
   "cell_type": "code",
   "execution_count": 100,
   "metadata": {},
   "outputs": [
    {
     "name": "stdout",
     "output_type": "stream",
     "text": [
      "(435, 20) (435, 1)\n"
     ]
    }
   ],
   "source": [
    "print(raw_data.shape,raw_label.shape)"
   ]
  },
  {
   "cell_type": "code",
   "execution_count": 104,
   "metadata": {},
   "outputs": [
    {
     "name": "stdout",
     "output_type": "stream",
     "text": [
      "(300, 20) (300, 1)\n",
      "(135, 20) (135, 1)\n"
     ]
    }
   ],
   "source": [
    "# 分出训练集和测试集\n",
    "train_data = raw_data.iloc[:300,:]\n",
    "test_data = raw_data.iloc[300:,:]\n",
    "train_label = raw_label[:300]\n",
    "test_label = raw_label[300:]\n",
    "print(train_data.shape,train_label.shape)\n",
    "print(test_data.shape,test_label.shape)"
   ]
  },
  {
   "cell_type": "markdown",
   "metadata": {},
   "source": [
    "## 构造神经网络模型"
   ]
  },
  {
   "cell_type": "code",
   "execution_count": 105,
   "metadata": {},
   "outputs": [
    {
     "name": "stdout",
     "output_type": "stream",
     "text": [
      "WARNING:tensorflow:From /Users/xufan/anaconda3/lib/python3.6/site-packages/tensorflow/python/ops/math_ops.py:3066: to_int32 (from tensorflow.python.ops.math_ops) is deprecated and will be removed in a future version.\n",
      "Instructions for updating:\n",
      "Use tf.cast instead.\n",
      "Epoch 1/20\n",
      "300/300 [==============================] - 1s 2ms/step - loss: 0.6591 - acc: 0.5967\n",
      "Epoch 2/20\n",
      "300/300 [==============================] - 0s 408us/step - loss: 0.5796 - acc: 0.7133\n",
      "Epoch 3/20\n",
      "300/300 [==============================] - 0s 440us/step - loss: 0.5610 - acc: 0.6900\n",
      "Epoch 4/20\n",
      "300/300 [==============================] - 0s 386us/step - loss: 0.5649 - acc: 0.6567\n",
      "Epoch 5/20\n",
      "300/300 [==============================] - 0s 410us/step - loss: 0.5055 - acc: 0.7300\n",
      "Epoch 6/20\n",
      "300/300 [==============================] - 0s 394us/step - loss: 0.4665 - acc: 0.7533\n",
      "Epoch 7/20\n",
      "300/300 [==============================] - 0s 451us/step - loss: 0.4399 - acc: 0.7900\n",
      "Epoch 8/20\n",
      "300/300 [==============================] - 0s 404us/step - loss: 0.3923 - acc: 0.8167\n",
      "Epoch 9/20\n",
      "300/300 [==============================] - 0s 381us/step - loss: 0.3471 - acc: 0.8633\n",
      "Epoch 10/20\n",
      "300/300 [==============================] - 0s 425us/step - loss: 0.3036 - acc: 0.8867\n",
      "Epoch 11/20\n",
      "300/300 [==============================] - 0s 405us/step - loss: 0.2937 - acc: 0.8733\n",
      "Epoch 12/20\n",
      "300/300 [==============================] - 0s 391us/step - loss: 0.2506 - acc: 0.8933\n",
      "Epoch 13/20\n",
      "300/300 [==============================] - 0s 376us/step - loss: 0.2276 - acc: 0.9067\n",
      "Epoch 14/20\n",
      "300/300 [==============================] - 0s 420us/step - loss: 0.1836 - acc: 0.9333\n",
      "Epoch 15/20\n",
      "300/300 [==============================] - 0s 423us/step - loss: 0.1571 - acc: 0.9300\n",
      "Epoch 16/20\n",
      "300/300 [==============================] - 0s 412us/step - loss: 0.1263 - acc: 0.9467\n",
      "Epoch 17/20\n",
      "300/300 [==============================] - 0s 436us/step - loss: 0.0952 - acc: 0.9667\n",
      "Epoch 18/20\n",
      "300/300 [==============================] - 0s 414us/step - loss: 0.0934 - acc: 0.9600\n",
      "Epoch 19/20\n",
      "300/300 [==============================] - 0s 384us/step - loss: 0.0697 - acc: 0.9633\n",
      "Epoch 20/20\n",
      "300/300 [==============================] - 0s 410us/step - loss: 0.0814 - acc: 0.9567\n"
     ]
    },
    {
     "data": {
      "text/plain": [
       "<keras.callbacks.History at 0x1130fa160>"
      ]
     },
     "execution_count": 105,
     "metadata": {},
     "output_type": "execute_result"
    }
   ],
   "source": [
    "from keras.datasets import mnist\n",
    "from keras.optimizers import Adam\n",
    "from keras.models import Sequential\n",
    "from keras.layers import Dense, Activation\n",
    "from keras.utils import np_utils\n",
    "\n",
    "train_label = np_utils.to_categorical(train_label, 2)\n",
    "test_label = np_utils.to_categorical(test_label, 2)\n",
    "\n",
    "\n",
    "model = Sequential()\n",
    "model.add(Dense(input_dim=20, units=1000))\n",
    "model.add(Activation('relu'))\n",
    "model.add(Dense(units=1000))\n",
    "model.add(Activation('relu'))\n",
    "model.add(Dense(units=1000))\n",
    "model.add(Activation('relu'))\n",
    "model.add(Dense(units=2))\n",
    "model.add(Activation('softmax'))\n",
    "\n",
    "model.compile(loss='binary_crossentropy',\n",
    "              optimizer='adam',\n",
    "              metrics=['accuracy'])\n",
    "\n",
    "model.fit(train_data, train_label,\n",
    "          epochs=20,\n",
    "          batch_size=100)"
   ]
  },
  {
   "cell_type": "code",
   "execution_count": 106,
   "metadata": {},
   "outputs": [
    {
     "name": "stdout",
     "output_type": "stream",
     "text": [
      "135/135 [==============================] - 0s 516us/step\n",
      "Total loss in training set: 1.6052526765399509\n",
      "Accuracy in training set: 0.5703703805252358\n"
     ]
    }
   ],
   "source": [
    "score = model.evaluate(test_data, test_label, batch_size=70)\n",
    "print('Total loss in training set:', score[0])\n",
    "print('Accuracy in training set:', score[1])"
   ]
  }
 ],
 "metadata": {
  "kernelspec": {
   "display_name": "Python 3",
   "language": "python",
   "name": "python3"
  },
  "language_info": {
   "codemirror_mode": {
    "name": "ipython",
    "version": 3
   },
   "file_extension": ".py",
   "mimetype": "text/x-python",
   "name": "python",
   "nbconvert_exporter": "python",
   "pygments_lexer": "ipython3",
   "version": "3.6.3"
  }
 },
 "nbformat": 4,
 "nbformat_minor": 2
}
