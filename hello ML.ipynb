{
 "cells": [
  {
   "cell_type": "code",
   "execution_count": 25,
   "metadata": {},
   "outputs": [
    {
     "data": {
      "text/plain": [
       "(42000, 785)"
      ]
     },
     "execution_count": 25,
     "metadata": {},
     "output_type": "execute_result"
    }
   ],
   "source": [
    "import pandas as pd\n",
    "from keras.utils import np_utils\n",
    "\n",
    "train = pd.read_csv('train.csv')\n",
    "train.shape"
   ]
  },
  {
   "cell_type": "code",
   "execution_count": 26,
   "metadata": {},
   "outputs": [],
   "source": [
    "train_label = train.iloc[:,0:1]\n",
    "train_data = train.iloc[:,1:]\n",
    "train_data = train_data/255"
   ]
  },
  {
   "cell_type": "code",
   "execution_count": 27,
   "metadata": {},
   "outputs": [],
   "source": [
    "train_label = np_utils.to_categorical(train_label, 10)"
   ]
  },
  {
   "cell_type": "code",
   "execution_count": 28,
   "metadata": {},
   "outputs": [],
   "source": [
    "from keras.datasets import mnist\n",
    "from keras.optimizers import Adam\n",
    "from keras.models import Sequential\n",
    "from keras.layers import Dense, Activation\n",
    "\n",
    "\n",
    "model = Sequential()\n",
    "model.add(Dense(input_dim=28*28, units=500))\n",
    "model.add(Activation('relu'))\n",
    "model.add(Dense(units=500))\n",
    "model.add(Activation('relu'))\n",
    "model.add(Dense(units=500))\n",
    "model.add(Activation('relu'))\n",
    "model.add(Dense(units=10))\n",
    "model.add(Activation('softmax'))"
   ]
  },
  {
   "cell_type": "code",
   "execution_count": 29,
   "metadata": {},
   "outputs": [],
   "source": [
    "model.compile(loss='categorical_crossentropy',\n",
    "              optimizer='adam',\n",
    "              metrics=['accuracy'])"
   ]
  },
  {
   "cell_type": "code",
   "execution_count": 30,
   "metadata": {},
   "outputs": [
    {
     "name": "stdout",
     "output_type": "stream",
     "text": [
      "Epoch 1/30\n",
      "42000/42000 [==============================] - 4s 85us/step - loss: 0.5337 - acc: 0.8554\n",
      "Epoch 2/30\n",
      "42000/42000 [==============================] - 3s 76us/step - loss: 0.1701 - acc: 0.9496\n",
      "Epoch 3/30\n",
      "42000/42000 [==============================] - 3s 78us/step - loss: 0.1092 - acc: 0.9670\n",
      "Epoch 4/30\n",
      "42000/42000 [==============================] - 4s 93us/step - loss: 0.0728 - acc: 0.9785\n",
      "Epoch 5/30\n",
      "42000/42000 [==============================] - 4s 86us/step - loss: 0.0528 - acc: 0.9843\n",
      "Epoch 6/30\n",
      "42000/42000 [==============================] - 3s 83us/step - loss: 0.0389 - acc: 0.9884\n",
      "Epoch 7/30\n",
      "42000/42000 [==============================] - 4s 88us/step - loss: 0.0294 - acc: 0.9916\n",
      "Epoch 8/30\n",
      "42000/42000 [==============================] - 3s 83us/step - loss: 0.0207 - acc: 0.9946\n",
      "Epoch 9/30\n",
      "42000/42000 [==============================] - 3s 82us/step - loss: 0.0123 - acc: 0.9970\n",
      "Epoch 10/30\n",
      "42000/42000 [==============================] - 4s 84us/step - loss: 0.0097 - acc: 0.9976\n",
      "Epoch 11/30\n",
      "42000/42000 [==============================] - 3s 83us/step - loss: 0.0070 - acc: 0.9984\n",
      "Epoch 12/30\n",
      "42000/42000 [==============================] - 4s 84us/step - loss: 0.0046 - acc: 0.9993\n",
      "Epoch 13/30\n",
      "42000/42000 [==============================] - 4s 86us/step - loss: 0.0034 - acc: 0.9997\n",
      "Epoch 14/30\n",
      "42000/42000 [==============================] - 4s 92us/step - loss: 0.0023 - acc: 0.9998\n",
      "Epoch 15/30\n",
      "42000/42000 [==============================] - 4s 88us/step - loss: 0.0014 - acc: 1.0000\n",
      "Epoch 16/30\n",
      "42000/42000 [==============================] - 4s 91us/step - loss: 0.0011 - acc: 1.0000\n",
      "Epoch 17/30\n",
      "42000/42000 [==============================] - 4s 87us/step - loss: 9.1214e-04 - acc: 1.0000\n",
      "Epoch 18/30\n",
      "42000/42000 [==============================] - 4s 85us/step - loss: 7.8883e-04 - acc: 1.0000\n",
      "Epoch 19/30\n",
      "42000/42000 [==============================] - 4s 89us/step - loss: 7.2456e-04 - acc: 1.0000\n",
      "Epoch 20/30\n",
      "42000/42000 [==============================] - 4s 87us/step - loss: 6.7999e-04 - acc: 1.0000\n",
      "Epoch 21/30\n",
      "42000/42000 [==============================] - 4s 83us/step - loss: 6.4484e-04 - acc: 1.0000\n",
      "Epoch 22/30\n",
      "42000/42000 [==============================] - 3s 82us/step - loss: 6.2007e-04 - acc: 1.0000\n",
      "Epoch 23/30\n",
      "42000/42000 [==============================] - 4s 83us/step - loss: 5.9596e-04 - acc: 1.0000\n",
      "Epoch 24/30\n",
      "42000/42000 [==============================] - 3s 79us/step - loss: 5.7730e-04 - acc: 1.0000\n",
      "Epoch 25/30\n",
      "42000/42000 [==============================] - 4s 88us/step - loss: 5.6354e-04 - acc: 1.0000\n",
      "Epoch 26/30\n",
      "42000/42000 [==============================] - 4s 96us/step - loss: 5.4443e-04 - acc: 1.0000\n",
      "Epoch 27/30\n",
      "42000/42000 [==============================] - 4s 92us/step - loss: 5.3133e-04 - acc: 1.0000\n",
      "Epoch 28/30\n",
      "42000/42000 [==============================] - 4s 101us/step - loss: 5.2245e-04 - acc: 1.0000\n",
      "Epoch 29/30\n",
      "42000/42000 [==============================] - 4s 102us/step - loss: 5.1149e-04 - acc: 1.0000\n",
      "Epoch 30/30\n",
      "42000/42000 [==============================] - 4s 98us/step - loss: 5.0087e-04 - acc: 1.0000\n"
     ]
    },
    {
     "data": {
      "text/plain": [
       "<keras.callbacks.History at 0x181e18b208>"
      ]
     },
     "execution_count": 30,
     "metadata": {},
     "output_type": "execute_result"
    }
   ],
   "source": [
    "model.fit(train_data, train_label,\n",
    "          epochs=30,\n",
    "          batch_size=1000)"
   ]
  },
  {
   "cell_type": "code",
   "execution_count": 31,
   "metadata": {},
   "outputs": [
    {
     "name": "stdout",
     "output_type": "stream",
     "text": [
      "42000/42000 [==============================] - 2s 39us/step\n",
      "Total loss in training set: 0.0004915827612400053\n",
      "Accuracy in training set: 0.999976190498897\n"
     ]
    }
   ],
   "source": [
    "score = model.evaluate(train_data, train_label, batch_size=100)\n",
    "print('Total loss in training set:', score[0])\n",
    "print('Accuracy in training set:', score[1])"
   ]
  },
  {
   "cell_type": "code",
   "execution_count": 32,
   "metadata": {},
   "outputs": [],
   "source": [
    "test = pd.read_csv('test.csv')"
   ]
  },
  {
   "cell_type": "code",
   "execution_count": 33,
   "metadata": {},
   "outputs": [],
   "source": [
    "predict = model.predict(test)\n",
    "predict = predict.tolist()"
   ]
  },
  {
   "cell_type": "code",
   "execution_count": 34,
   "metadata": {},
   "outputs": [],
   "source": [
    "import numpy as np\n",
    "pre = np.array(np.zeros(28000)).reshape(28000,1).astype(np.int64)\n",
    "\n",
    "for i in range(28000):\n",
    "    pre[i] = predict[i].index(max(predict[i]))\n",
    "\n",
    "index = np.array(np.arange(1,28001)).reshape(28000,1)\n",
    "result = np.hstack((index,pre))"
   ]
  },
  {
   "cell_type": "code",
   "execution_count": 35,
   "metadata": {},
   "outputs": [
    {
     "name": "stdout",
     "output_type": "stream",
     "text": [
      "         Label\n",
      "ImageId       \n",
      "1            2\n",
      "2            0\n",
      "3            9\n",
      "4            9\n",
      "5            3\n",
      "6            7\n",
      "7            0\n",
      "8            3\n",
      "9            0\n",
      "10           3\n"
     ]
    }
   ],
   "source": [
    "pd_data = pd.DataFrame(result,columns=['ImageId','Label'])\n",
    "pd_data.set_index('ImageId', inplace=True)\n",
    "print(pd_data[:10])\n",
    "pd_data.to_csv('sample_submission.csv')"
   ]
  },
  {
   "cell_type": "code",
   "execution_count": null,
   "metadata": {},
   "outputs": [],
   "source": []
  }
 ],
 "metadata": {
  "kernelspec": {
   "display_name": "Python 3",
   "language": "python",
   "name": "python3"
  },
  "language_info": {
   "codemirror_mode": {
    "name": "ipython",
    "version": 3
   },
   "file_extension": ".py",
   "mimetype": "text/x-python",
   "name": "python",
   "nbconvert_exporter": "python",
   "pygments_lexer": "ipython3",
   "version": "3.6.3"
  }
 },
 "nbformat": 4,
 "nbformat_minor": 2
}
